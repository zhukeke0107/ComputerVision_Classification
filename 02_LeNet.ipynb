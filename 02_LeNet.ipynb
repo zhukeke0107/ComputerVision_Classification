{
  "nbformat": 4,
  "nbformat_minor": 0,
  "metadata": {
    "colab": {
      "provenance": [],
      "machine_shape": "hm",
      "authorship_tag": "ABX9TyOBu7GyCCpLBs/wHChCGGox",
      "include_colab_link": true
    },
    "kernelspec": {
      "name": "python3",
      "display_name": "Python 3"
    },
    "language_info": {
      "name": "python"
    },
    "accelerator": "GPU",
    "gpuClass": "standard"
  },
  "cells": [
    {
      "cell_type": "markdown",
      "metadata": {
        "id": "view-in-github",
        "colab_type": "text"
      },
      "source": [
        "<a href=\"https://colab.research.google.com/github/zhukeke0107/ComputerVision_Classification/blob/main/02_LeNet.ipynb\" target=\"_parent\"><img src=\"https://colab.research.google.com/assets/colab-badge.svg\" alt=\"Open In Colab\"/></a>"
      ]
    },
    {
      "cell_type": "markdown",
      "source": [
        "## What is Convolutional layer?\n",
        "\n",
        "(Reference from Grokking Deep Learning)\n",
        "\n",
        "## How did Convolution do the backpropagation?\n",
        "\n"
      ],
      "metadata": {
        "id": "TZ-mp4U__Mqy"
      }
    },
    {
      "cell_type": "markdown",
      "source": [
        "This is a tutorial for LeNet-5 explaination:\n",
        "\n",
        "1. 2-layers of CNNs, also including 2 subsampling layer (averagepool is used in original paper)\n",
        "2. 3-layers of Fully-connected layer"
      ],
      "metadata": {
        "id": "Z-a3EzJlfc19"
      }
    },
    {
      "cell_type": "code",
      "source": [
        "import torch\n",
        "from torch import nn, optim\n",
        "import torch.functional as F\n",
        "import torch.utils.data as data\n",
        "\n",
        "from torchvision.transforms import transforms\n",
        "import torchvision.datasets as datasets\n",
        "\n",
        "from sklearn import decomposition\n",
        "from sklearn import manifold\n",
        "from sklearn.metrics import confusion_matrix\n",
        "from sklearn.metrics import ConfusionMatrixDisplay\n",
        "from tqdm.notebook import tqdm, trange\n",
        "import matplotlib.pyplot as plt\n",
        "import numpy as np\n",
        "\n",
        "import copy\n",
        "import random\n",
        "import time"
      ],
      "metadata": {
        "id": "u-fX4t0kfcME"
      },
      "execution_count": null,
      "outputs": []
    },
    {
      "cell_type": "code",
      "execution_count": null,
      "metadata": {
        "id": "lUPLVR5oeyWF",
        "colab": {
          "base_uri": "https://localhost:8080/"
        },
        "outputId": "d2e68dc9-862a-4327-f38d-cb7bd702d87d"
      },
      "outputs": [
        {
          "output_type": "stream",
          "name": "stdout",
          "text": [
            "Looking in indexes: https://pypi.org/simple, https://us-python.pkg.dev/colab-wheels/public/simple/\n",
            "Collecting torch-summary\n",
            "  Downloading torch_summary-1.4.5-py3-none-any.whl (16 kB)\n",
            "Installing collected packages: torch-summary\n",
            "Successfully installed torch-summary-1.4.5\n"
          ]
        }
      ],
      "source": [
        "!pip install torch-summary"
      ]
    },
    {
      "cell_type": "code",
      "source": [
        "# torch-summary is like keras summary to show the network structures \n",
        "# and parameter numbers\n",
        "from torchsummary import summary\n",
        "import torchvision\n",
        "model = torchvision.models.resnet50()\n",
        "summary(model, (3, 224, 224), depth=3)"
      ],
      "metadata": {
        "id": "p0BOnuWDa_2O"
      },
      "execution_count": null,
      "outputs": []
    },
    {
      "cell_type": "code",
      "source": [
        "# fix the cuda to make each running repeatable\n",
        "SEED  = 1234\n",
        "\n",
        "random.seed(SEED)\n",
        "np.random.seed(SEED)\n",
        "torch.manual_seed(SEED)\n",
        "torch.cuda.manual_seed(SEED)\n",
        "torch.backends.cudnn.deterministic = True"
      ],
      "metadata": {
        "id": "CsLbWeSWaItC"
      },
      "execution_count": null,
      "outputs": []
    },
    {
      "cell_type": "code",
      "source": [
        "# connect to colab\n",
        "from google.colab import drive\n",
        "drive.mount('/content/drive', force_remount=True)"
      ],
      "metadata": {
        "colab": {
          "base_uri": "https://localhost:8080/"
        },
        "id": "WipblzQTbuyy",
        "outputId": "76d094f5-cd02-40df-c543-9f65e2a8952b"
      },
      "execution_count": null,
      "outputs": [
        {
          "output_type": "stream",
          "name": "stdout",
          "text": [
            "Mounted at /content/drive\n"
          ]
        }
      ]
    },
    {
      "cell_type": "code",
      "source": [
        "import os\n",
        "dir_path = '/content/drive/MyDrive/github/CV/ImageClassification'\n",
        "os.chdir(dir_path)"
      ],
      "metadata": {
        "id": "jTYBySbEb45J"
      },
      "execution_count": null,
      "outputs": []
    },
    {
      "cell_type": "code",
      "source": [
        "!pwd"
      ],
      "metadata": {
        "colab": {
          "base_uri": "https://localhost:8080/"
        },
        "id": "nIf6J79ab-So",
        "outputId": "2f93faa2-c278-4e40-cce9-daee0ad60f50"
      },
      "execution_count": null,
      "outputs": [
        {
          "output_type": "stream",
          "name": "stdout",
          "text": [
            "/content/drive/MyDrive/github/CV/ImageClassification\n"
          ]
        }
      ]
    },
    {
      "cell_type": "code",
      "source": [
        "ROOT = 'data'\n",
        "\n",
        "training_data = datasets.MNIST(root=ROOT,\n",
        "                               )"
      ],
      "metadata": {
        "id": "bgdCwaG8cCDq"
      },
      "execution_count": null,
      "outputs": []
    }
  ]
}